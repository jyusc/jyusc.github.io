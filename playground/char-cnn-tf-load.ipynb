{
 "cells": [
  {
   "cell_type": "code",
   "execution_count": 1,
   "metadata": {},
   "outputs": [],
   "source": [
    "import numpy as np\n",
    "import tensorflow as tf\n",
    "import os\n",
    "import os.path as osp\n",
    "import re\n",
    "\n",
    "output_graph_name = 'constant_graph_weights_full_0.8.pb'\n",
    "input_fld = 'input_fld_path'\n",
    "\n",
    "def clean(s):\n",
    "    s = re.sub(r'@\\S+', r'', s)\n",
    "    return re.sub(r'[^\\x00-\\x7f]', r'', s)\n",
    "\n",
    "def load_graph(frozen_graph_filename):\n",
    "    with tf.gfile.GFile(frozen_graph_filename, \"rb\") as f:\n",
    "        graph_def = tf.GraphDef()\n",
    "        graph_def.ParseFromString(f.read())\n",
    "    with tf.Graph().as_default() as graph:\n",
    "        tf.import_graph_def(graph_def, name=\"prefix\")\n",
    "    return graph\n"
   ]
  },
  {
   "cell_type": "code",
   "execution_count": 3,
   "metadata": {},
   "outputs": [
    {
     "name": "stdout",
     "output_type": "stream",
     "text": [
      "[[ 0.05642456]\n",
      " [ 0.05464973]\n",
      " [ 0.05642456]\n",
      " [ 0.05642456]\n",
      " [ 0.05642456]\n",
      " [ 0.05642456]\n",
      " [ 0.05643943]\n",
      " [ 0.34382129]\n",
      " [ 0.31523278]\n",
      " [ 0.05642456]\n",
      " [ 0.95141006]\n",
      " [ 0.88607085]\n",
      " [ 0.84239691]]\n"
     ]
    }
   ],
   "source": [
    "graph = load_graph('input_fld_pathtensorflow_model/' + output_graph_name)\n",
    "# for op in graph.get_operations():\n",
    "#     print(op.name)\n",
    "char_indices = {'\\t': 0, '\\n': 1, '\\r': 2, '!': 3, ' ': 4, '#': 5, '\"': 6, '%': 7, '$': 8, \"'\": 9, '&': 10, ')': 11, '(': 12, '+': 13, '*': 14, '-': 15, ',': 16, '/': 17, '.': 18, '1': 19, '0': 20, '3': 21, '2': 22, '5': 23, '4': 24, '7': 25, '6': 26, '9': 27, '8': 28, ';': 29, ':': 30, '=': 31, '<': 32, '?': 33, '>': 34, '@': 35, '[': 36, ']': 37, '\\\\': 38, '_': 39, '^': 40, 'a': 41, '`': 42, 'c': 43, 'b': 44, 'e': 45, 'd': 46, 'g': 47, 'f': 48, 'i': 49, 'h': 50, 'k': 51, 'j': 52, 'm': 53, 'l': 54, 'o': 55, 'n': 56, 'q': 57, 'p': 58, 's': 59, 'r': 60, 'u': 61, 't': 62, 'w': 63, 'v': 64, 'y': 65, 'x': 66, '{': 67, 'z': 68, '}': 69, '|': 70, '\\x7f': 71, '~': 72}\n",
    "x = graph.get_tensor_by_name('prefix/input_1:0')\n",
    "y = graph.get_tensor_by_name('prefix/output_node0:0')\n",
    "kl = graph.get_tensor_by_name('prefix/lstm_1/keras_learning_phase:0')\n",
    "\n",
    "maxlen = 512\n",
    "max_sentences = 1\n",
    "\n",
    "def processSentence(sentence):\n",
    "    x = np.zeros(maxlen, dtype=np.int64)\n",
    "    for t, char in enumerate(sentence[-maxlen:]):\n",
    "        x[maxlen - 1 - t] = char_indices[char]\n",
    "    return x\n",
    "        \n",
    "with tf.Session(graph=graph) as sess:\n",
    "    sentences = [\n",
    "        \"The foot is really bad. Like the worst it's ever been. I can barely walk right now.\",\n",
    "        \" It took me waaay too long to get your message about being ashamed...right now I really am ashamed\",\n",
    "        \"thx for nothing on getting us out of the country and back to US. Broken plane? Come on. Get another one.\",\n",
    "        \"too bad\",\n",
    "        \"that sucks\",\n",
    "        \"i'm disappointed by this performance\",\n",
    "        \"this is a afewwfaw\", \n",
    "        \"huh?!@#!@\",\n",
    "        \"wtf\",\n",
    "        \"oh i'm so sorry\",\n",
    "        \"this is good\",\n",
    "        \"have a great trip\",\n",
    "        \"This is such a great deal! Already thinking about my 2nd trip to @Australia \"]\n",
    "    input_x = np.ones((len(sentences), max_sentences, maxlen), dtype=np.int64) * -1\n",
    "    for i, s in enumerate(sentences):\n",
    "        input_x[i][0] = processSentence(clean(s.lower()))\n",
    "    y_out = sess.run(y, feed_dict={\n",
    "        x: input_x, kl: False\n",
    "    })\n",
    "\n",
    "    print(y_out)"
   ]
  }
 ],
 "metadata": {
  "kernelspec": {
   "display_name": "Python 2",
   "language": "python",
   "name": "python2"
  },
  "language_info": {
   "codemirror_mode": {
    "name": "ipython",
    "version": 2
   },
   "file_extension": ".py",
   "mimetype": "text/x-python",
   "name": "python",
   "nbconvert_exporter": "python",
   "pygments_lexer": "ipython2",
   "version": "2.7.13"
  }
 },
 "nbformat": 4,
 "nbformat_minor": 2
}
